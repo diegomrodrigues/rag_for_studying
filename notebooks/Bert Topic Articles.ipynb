{
 "cells": [
  {
   "cell_type": "code",
   "execution_count": null,
   "id": "6e57e77d-87f4-43aa-a740-552b1b86ab79",
   "metadata": {},
   "outputs": [
    {
     "name": "stdout",
     "output_type": "stream",
     "text": [
      "MuPDF error: syntax error: could not parse color space (1138 0 R)\n",
      "\n"
     ]
    }
   ],
   "source": [
    "import json\n",
    "from langchain_community.document_loaders import ArxivLoader\n",
    "from langchain_community.document_loaders.merge import MergedDataLoader\n",
    "from langchain_huggingface import HuggingFaceEmbeddings\n",
    "from langchain_community.vectorstores import FAISS\n",
    "from langchain_core.documents import Document\n",
    "from typing import Iterator\n",
    "\n",
    "class CustomArxivLoader(ArxivLoader):\n",
    "    def __init__(self, **kwargs):\n",
    "        super().__init__(**kwargs)\n",
    "    \n",
    "    def lazy_load(self) -> Iterator[Document]:\n",
    "        documents = super().lazy_load()\n",
    "\n",
    "        def update_metadata(documents):\n",
    "            for document in documents:\n",
    "                yield Document(\n",
    "                    page_content=document.page_content,\n",
    "                    metadata={\n",
    "                        **document.metadata,\n",
    "                        \"ArxivId\": self.query,\n",
    "                        \"Source\": f\"https://arxiv.org/pdf/{self.query}.pdf\"\n",
    "                    }\n",
    "                )\n",
    "        \n",
    "        return update_metadata(documents)\n",
    "\n",
    "retriever = \"large-language-models\"\n",
    "\n",
    "with open(f\"../assets/results/crawler_{retriever}.json\") as file:\n",
    "    results = json.load(file)\n",
    "\n",
    "arxiv_urls = results[\"collected_urls\"][\"arxiv.org\"]\n",
    "arxiv_ids = map(lambda url: url.split(\"/\")[-1].strip(\".pdf\"), arxiv_urls)\n",
    "\n",
    "all_loaders = [CustomArxivLoader(query=arxiv_id) for arxiv_id in arxiv_ids]\n",
    "\n",
    "merged_loader = MergedDataLoader(loaders=all_loaders)\n",
    "\n",
    "documents = merged_loader.load()"
   ]
  },
  {
   "cell_type": "code",
   "execution_count": null,
   "id": "0475606b-1e96-4faf-8f79-8a51ea14ed6b",
   "metadata": {},
   "outputs": [],
   "source": [
    "len(documents)"
   ]
  },
  {
   "cell_type": "code",
   "execution_count": null,
   "id": "19bc3804-e628-40e2-96b7-9416637659d5",
   "metadata": {
    "scrolled": true
   },
   "outputs": [],
   "source": [
    "!pip install bertopic"
   ]
  },
  {
   "cell_type": "code",
   "execution_count": null,
   "id": "321910d2-27e1-4c67-a5bb-acd89a6d8fa2",
   "metadata": {},
   "outputs": [],
   "source": [
    "articles = [doc.page_content for doc in documents]"
   ]
  },
  {
   "cell_type": "code",
   "execution_count": null,
   "id": "114573ff-3f88-4b37-a230-bdcd7e5156ec",
   "metadata": {},
   "outputs": [],
   "source": [
    "from bertopic import BERTopic\n",
    "from bertopic.representation import KeyBERTInspired\n",
    "\n",
    "representation_model = KeyBERTInspired()\n",
    "\n",
    "topic_model = BERTopic(\n",
    "   \"english\", \n",
    "   verbose=True, \n",
    "   nr_topics=None, \n",
    "   min_topic_size=10, \n",
    "   representation_model=representation_model\n",
    ")\n",
    "\n",
    "topics, probs = topic_model.fit_transform(articles)"
   ]
  },
  {
   "cell_type": "code",
   "execution_count": null,
   "id": "f5ba5d75-f5c1-47d6-b336-8822fbd10ccc",
   "metadata": {},
   "outputs": [],
   "source": [
    "freq = topic_model.get_topic_info()"
   ]
  },
  {
   "cell_type": "code",
   "execution_count": null,
   "id": "de6f2921-56c7-45bc-9fc6-c7b873d5829c",
   "metadata": {},
   "outputs": [],
   "source": [
    "freq.head(10)"
   ]
  },
  {
   "cell_type": "code",
   "execution_count": null,
   "id": "ea9f5d39-d012-4e50-8727-0159eee7fff7",
   "metadata": {},
   "outputs": [],
   "source": [
    "topic_model.visualize_barchart()"
   ]
  },
  {
   "cell_type": "code",
   "execution_count": null,
   "id": "7285bd57-0a76-493a-b379-19c49d566b8c",
   "metadata": {},
   "outputs": [],
   "source": [
    "topic_model.visualize_documents(summaries)"
   ]
  },
  {
   "cell_type": "code",
   "execution_count": null,
   "id": "6aaabbda-4ca9-4c42-97bc-058c3258b23b",
   "metadata": {
    "scrolled": true
   },
   "outputs": [],
   "source": [
    "help(topic_model)"
   ]
  },
  {
   "cell_type": "code",
   "execution_count": null,
   "id": "806a1dc3-400d-41fe-9f06-fcd16909c0bc",
   "metadata": {},
   "outputs": [],
   "source": [
    "topic_labels = topic_model.generate_topic_labels(nr_words=3, topic_prefix=False, separator=' ')\n",
    "topic_labels"
   ]
  },
  {
   "cell_type": "code",
   "execution_count": null,
   "id": "be3b60fb-2ab7-4c06-a9ad-9b34bd2fe3ee",
   "metadata": {},
   "outputs": [],
   "source": [
    "topic_documents = {label: [] for label in topic_labels}\n",
    "\n",
    "for doc, topic in zip(documents, topics):\n",
    "    label = topic_labels[topic]\n",
    "\n",
    "    topic_documents[label].append(doc)\n",
    "    \n",
    "    print(doc.metadata['Title'], label)"
   ]
  },
  {
   "cell_type": "code",
   "execution_count": null,
   "id": "4ee016eb-92ad-4808-975d-8843812c1081",
   "metadata": {},
   "outputs": [],
   "source": [
    "topic_model."
   ]
  }
 ],
 "metadata": {
  "kernelspec": {
   "display_name": "Python 3 (ipykernel)",
   "language": "python",
   "name": "python3"
  },
  "language_info": {
   "codemirror_mode": {
    "name": "ipython",
    "version": 3
   },
   "file_extension": ".py",
   "mimetype": "text/x-python",
   "name": "python",
   "nbconvert_exporter": "python",
   "pygments_lexer": "ipython3",
   "version": "3.10.13"
  }
 },
 "nbformat": 4,
 "nbformat_minor": 5
}
